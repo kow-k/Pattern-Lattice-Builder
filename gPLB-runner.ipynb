{
 "cells": [
  {
   "cell_type": "markdown",
   "metadata": {},
   "source": [
    "# (Generalized) Pattern Lattice Builder (PLB) runner\n",
    "\n",
    "developed by Kow Kuroda (kow.kuroda@gmail.com)\n",
    "\n",
    "created on 2024/10/18\n",
    "\n",
    "modified on 2024/10/20, 21, 22, 23, 26, 27, 29, 30, 31\n",
    "\n",
    "modifications\n",
    "1. added compatibility with package format (2024/10/20)\n",
    "2. implemented automatic figure sizing (2024/10/22)\n",
    "3. implemented robust z-score (2024/10/23)\n",
    "4. implemetend multiprocess-based speeding up at PatternLattice.merge_lattices()\n",
    "5. implemented content tracking (2024/10/31)\n",
    "6. added upper-bound to z-score-based node pruning (2024/11/01)"
   ]
  },
  {
   "cell_type": "code",
   "execution_count": null,
   "metadata": {},
   "outputs": [],
   "source": [
    "## imports\n",
    "import gPLB as plb\n",
    "\n",
    "## The following needs to be True only for debugging/development.\n",
    "re_import_module = True\n",
    "if re_import_module:\n",
    "    import importlib\n",
    "    importlib.reload (plb)"
   ]
  },
  {
   "cell_type": "code",
   "execution_count": null,
   "metadata": {},
   "outputs": [],
   "source": [
    "## inspect plb.py\n",
    "import pprint as pp\n",
    "content_check = False\n",
    "if content_check:\n",
    "    pp.pprint(dir(plb))"
   ]
  },
  {
   "cell_type": "code",
   "execution_count": null,
   "metadata": {},
   "outputs": [],
   "source": [
    "## Parameters\n",
    "## managemental\n",
    "verbose     = True\n",
    "\n",
    "## settings for CJK font display\n",
    "## N.B. phonetic symbols are likely to be incompatible with CJK-ready font\n",
    "use_multibyte_chars = True\n",
    "\n",
    "## internal variables\n",
    "comment_escape  = '#'\n",
    "field_sep       = r\",\"\n",
    "\n",
    "## size filtering on input\n",
    "size_filtering  = True\n",
    "max_size        = 5\n",
    "\n",
    "## parameters for PLB\n",
    "gap_marks      = [ \"…\", \"_\" ]\n",
    "gap_mark       = gap_marks[0]\n",
    "\n",
    "## if Generalized Pattern Lattice is used nor not\n",
    "generalized     = True\n",
    "\n",
    "## if instantiation check is reflexive\n",
    "reflexive       = True\n",
    "\n",
    "## if node pooling is reductive\n",
    "reductive       = True\n",
    "\n",
    "## if robust Z-score is used instead of normal Z-score\n",
    "use_robust_zscore   = True\n",
    "\n",
    "## select the bases of z-scores: link sources or link targets\n",
    "zscores_from_targets = False\n",
    "\n",
    "### settings for drawing\n",
    "## draw individual lattices\n",
    "draw_individual_lattices   = True\n",
    "draw_sample_lattices_only  = True\n",
    "sample_lattice_n           = 3\n",
    "\n",
    "## full display for merged pattern lattice\n",
    "draw_full_version_for_merged = False"
   ]
  },
  {
   "cell_type": "code",
   "execution_count": null,
   "metadata": {},
   "outputs": [],
   "source": [
    "## graph layout selection\n",
    "graph_layouts = [   'Multi_partite', # 0\n",
    "                    'Graphviz', # 1\n",
    "                    'ARF', # 2\n",
    "                    'Fruchterman_Reingold', # 3\n",
    "                    'Kamada_Kawai', # 4\n",
    "                    'Spring', # 5\n",
    "                    'Planar', # 6\n",
    "                    'Circular', # 7\n",
    "                    'Shell', # 8\n",
    "                    'Planar', # 9 [often fails to work]\n",
    "                    # 'Breadth-First Search', # fails work\n",
    "                 ]\n",
    "#\n",
    "graph_layout = graph_layouts[0]\n",
    "print(f\"graph_layout: {graph_layout}\")"
   ]
  },
  {
   "cell_type": "code",
   "execution_count": null,
   "metadata": {},
   "outputs": [],
   "source": [
    "## set up font\n",
    "import matplotlib\n",
    "from matplotlib import font_manager as Font_manager\n",
    "\n",
    "if use_multibyte_chars:\n",
    "    ## select font\n",
    "    multibyte_font_names = [    \"IPAexGothic\",  # 0 Multi-platform font\n",
    "                                \"Hiragino sans\" # 1 Mac only\n",
    "                            ]\n",
    "    multibyte_font_name  = multibyte_font_names[0]\n",
    "    ## tell where target fonts are\n",
    "    system_font_dir = \"/System/Library/Fonts/\"\n",
    "    user_font_dir = \"/Library/Fonts/\"\n",
    "    # use the version installed via TeXLive\n",
    "    user_font_dir2 = \"/usr/local/texlive/2013/texmf-dist/fonts/truetype/public/ipaex/\"\n",
    "    if multibyte_font_name == \"IPAexGothic\":\n",
    "        try:\n",
    "            Font_manager.fontManager.addfont(f\"{user_font_dir}ipaexg.ttf\")\n",
    "        except FileNotFoundError:\n",
    "            Font_manager.fontManager.addfont(f\"{user_font_dir2}ipaexg.ttf\")\n",
    "    elif multibyte_font_name == \"Hiragino sans\":\n",
    "        Font_manager.fontManager.addfont(f\"{system_font_dir}ヒラギノ角ゴシック W0.ttc\")\n",
    "    ## check result\n",
    "    matplotlib.rc('font', family = multibyte_font_name)\n",
    "else:\n",
    "    multibyte_font_name = None\n",
    "    matplotlib.rcParams['font.family'] = \"Sans-serif\"\n",
    "##\n",
    "print(f\"multibyte_font_name: {multibyte_font_name}\")\n",
    "print(f\"matplotlib.rcParams['font.family']: {matplotlib.rcParams['font.family']}\")    "
   ]
  },
  {
   "cell_type": "markdown",
   "metadata": {},
   "source": [
    "# Preparation"
   ]
  },
  {
   "cell_type": "code",
   "execution_count": null,
   "metadata": {},
   "outputs": [],
   "source": [
    "## select target file\n",
    "import csv\n",
    "data_dir = \"data\"\n",
    "data_names = [  'plb-sample0', 'plb-sample1', 'plb-sample2',\n",
    "                'plb-inteY-max9', 'plb-inteY-max11',\n",
    "                'plb-utau-naku-sinu', 'plb-utau-naku-sinu-commented',\n",
    "                'plb-XiY-max7', 'plb-XiY-max9', 'plb-XiY-wiper2-phonetic', 'plb-XiY-wiper2b', 'plb-XiY-wiper3-dual','plb-XiY-wiper5b-dual'\n",
    "            ]\n",
    "\n",
    "data_name = data_names[2]\n",
    "data_file = f\"{data_dir}/{data_name}.csv\"\n",
    "print(f\"read data from: {data_file}\")"
   ]
  },
  {
   "cell_type": "code",
   "execution_count": null,
   "metadata": {},
   "outputs": [],
   "source": [
    "## reading data\n",
    "with open(data_file, encoding = \"utf-8\") as file:\n",
    "    data = list(csv.reader(file, delimiter = field_sep)) # Crucially list(..)\n",
    "\n",
    "## discard comment lines that start with #\n",
    "data = [ F for F in data if len(F) > 0 and not F[0][0] == comment_escape ]\n",
    "\n",
    "## strip extra spaces\n",
    "data = [ [ f.strip() for f in F ] for F in data ]\n",
    "\n",
    "## remove in-line comments\n",
    "data_renewed = [ ]\n",
    "for F in data:\n",
    "    G = []\n",
    "    for f in F:\n",
    "        pos = f.find(comment_escape)\n",
    "        if pos > 0:\n",
    "            G.append(f[:pos])\n",
    "            continue\n",
    "        else:\n",
    "            G.append(f)\n",
    "    ##\n",
    "    data_renewed.append(G)\n",
    "##\n",
    "data = data_renewed"
   ]
  },
  {
   "cell_type": "code",
   "execution_count": null,
   "metadata": {},
   "outputs": [],
   "source": [
    "## check result\n",
    "import pprint as pp\n",
    "pp.pprint(data)"
   ]
  },
  {
   "cell_type": "markdown",
   "metadata": {},
   "source": [
    "# Process individual pattern lattices"
   ]
  },
  {
   "cell_type": "code",
   "execution_count": null,
   "metadata": {},
   "outputs": [],
   "source": [
    "## size filter\n",
    "if size_filtering and not max_size is None:\n",
    "    data = [ x for x in data if len(x) <= max_size ]"
   ]
  },
  {
   "cell_type": "code",
   "execution_count": null,
   "metadata": {},
   "outputs": [],
   "source": [
    "## sampling\n",
    "sampling      = True\n",
    "sampling_rate = 0.3\n",
    "if sampling:\n",
    "      import random\n",
    "      data = random.sample(data, round(len(data) * sampling_rate))\n",
    "##\n",
    "print(f\"sampled {len(data)} inputs\")\n",
    "pp.pprint(data)"
   ]
  },
  {
   "cell_type": "code",
   "execution_count": null,
   "metadata": {},
   "outputs": [],
   "source": [
    "## build pattern lattices from data\n",
    "Lx = [ ]\n",
    "for item in data:\n",
    "    pat    = plb.Pattern(item, gap_mark)\n",
    "    patlat = plb.PatternLattice(pat, reflexive = reflexive, generalized = generalized)\n",
    "    if verbose:\n",
    "            print(patlat)\n",
    "    Lx.append(patlat)\n",
    "print(f\"Lx contains {len(Lx)} lattices\")"
   ]
  },
  {
   "cell_type": "code",
   "execution_count": null,
   "metadata": {},
   "outputs": [],
   "source": [
    "## draw pattern lattices individually\n",
    "if draw_individual_lattices:\n",
    "    if draw_sample_lattices_only:\n",
    "        Ly = random.sample(Lx, sample_lattice_n)\n",
    "        for patlat in Ly:\n",
    "            patlat.draw_diagrams (generalized = generalized, zscores_from_targets = zscores_from_targets, auto_fig_sizing = True,\n",
    "                              font_name = multibyte_font_name)\n",
    "else:\n",
    "    for patlat in Lx:\n",
    "        patlat.draw_diagrams (generalized = generalized, zscores_from_targets = zscores_from_targets, auto_fig_sizing = True,\n",
    "                              font_name = multibyte_font_name)"
   ]
  },
  {
   "cell_type": "code",
   "execution_count": null,
   "metadata": {},
   "outputs": [],
   "source": [
    "#raise \"Stop execution\""
   ]
  },
  {
   "cell_type": "markdown",
   "metadata": {},
   "source": [
    "# Process merged pattern lattice"
   ]
  },
  {
   "cell_type": "code",
   "execution_count": null,
   "metadata": {},
   "outputs": [],
   "source": [
    "## merge pattern lattices\n",
    "gen_links_internally = False\n",
    "import functools\n",
    "M = functools.reduce (lambda La, Lb: La.merge_lattices (Lb, gen_links_internally = gen_links_internally, generalized = generalized, reflexive = reflexive, reductive = reductive, check = False),\n",
    "                                                        Lx)"
   ]
  },
  {
   "cell_type": "code",
   "execution_count": null,
   "metadata": {},
   "outputs": [],
   "source": [
    "print(M.links)\n",
    "print(f\"M.links has {len(M.links)} links\" )"
   ]
  },
  {
   "cell_type": "code",
   "execution_count": null,
   "metadata": {},
   "outputs": [],
   "source": [
    "## generate links: the following process was isolated for memory conservation\n",
    "if not gen_links_internally and len(M.links) == 0:\n",
    "    M.update_links (reflexive = reflexive, check = False)"
   ]
  },
  {
   "cell_type": "code",
   "execution_count": null,
   "metadata": {},
   "outputs": [],
   "source": [
    "## calculate z-scores from link sources\n",
    "if verbose:\n",
    "    print(f\"##Link_sources\")\n",
    "    \n",
    "Link_sources     = M.link_sources\n",
    "ranked_links     = plb.make_ranked_dict (Link_sources, gap_mark = gap_mark)\n",
    "averages_by_rank = plb.calc_averages_by_rank (Link_sources, ranked_links) # returns dict\n",
    "stdevs_by_rank   = plb.calc_stdevs_by_rank (Link_sources, ranked_links) # returns dict\n",
    "medians_by_rank  = plb.calc_medians_by_rank (Link_sources, ranked_links) # returns dict\n",
    "MADs_by_rank     = plb.calc_MADs_by_rank (Link_sources, ranked_links) # returns dict\n",
    "\n",
    "## calculate z-scores\n",
    "source_zscores = { }\n",
    "robust_zscores_from_s   = [ ] # for inspection only\n",
    "normal_zscores_from_s   = [ ] # for inspection only\n",
    "for i, link_source in enumerate(Link_sources):\n",
    "    rank     = plb.get_rank_of_list (link_source, gap_mark)\n",
    "    value    = M.link_sources[link_source]\n",
    "    \n",
    "    ## robust z-scores\n",
    "    robust_zscore  = plb.calc_zscore (value, averages_by_rank[rank], stdevs_by_rank[rank], medians_by_rank[rank], MADs_by_rank[rank], robust = True)\n",
    "    robust_zscores_from_s.append(robust_zscore)\n",
    "    \n",
    "    ## normal z-scores\n",
    "    normal_zscore   = plb.calc_zscore_old (value, averages_by_rank[rank], stdevs_by_rank[rank])\n",
    "    normal_zscores_from_s.append(normal_zscore)\n",
    "\n",
    "    if use_robust_zscore:\n",
    "        source_zscores[link_source] = robust_zscore\n",
    "    else:\n",
    "        source_zscores[link_source] = normal_zscore\n",
    "    if verbose:\n",
    "        print(f\"#source {i:4d}: {link_source} has {value} out-going(s) [{source_zscores[link_source]: .4f} at rank {rank}]\")\n",
    "    \n",
    "## attach source_zscores to M\n",
    "M.source_zscores.update(source_zscores)"
   ]
  },
  {
   "cell_type": "code",
   "execution_count": null,
   "metadata": {},
   "outputs": [],
   "source": [
    "## check robust z-score distribution\n",
    "import matplotlib.pyplot as plt\n",
    "plt.hist(robust_zscores_from_s, bins = 20)\n",
    "plt.title(f\"Distribution of robust z-scores for out-going link counts\")\n",
    "plt.show()"
   ]
  },
  {
   "cell_type": "code",
   "execution_count": null,
   "metadata": {},
   "outputs": [],
   "source": [
    "## check robust z-score distribution\n",
    "import matplotlib.pyplot as plt\n",
    "plt.hist(normal_zscores_from_s, bins = 20)\n",
    "plt.title(f\"Distribution of normal z-scores for out-going link counts\")\n",
    "plt.show()"
   ]
  },
  {
   "cell_type": "code",
   "execution_count": null,
   "metadata": {},
   "outputs": [],
   "source": [
    "## calculate z-scores from link targets\n",
    "if verbose:\n",
    "    print(f\"##Link_targets\")\n",
    "\n",
    "Link_targets     = M.link_targets\n",
    "ranked_links     = plb.make_ranked_dict (Link_targets, gap_mark = gap_mark)\n",
    "averages_by_rank = plb.calc_averages_by_rank (Link_targets, ranked_links) # returns dict\n",
    "stdevs_by_rank   = plb.calc_stdevs_by_rank (Link_targets, ranked_links) # returns dict\n",
    "medians_by_rank  = plb.calc_medians_by_rank (Link_targets, ranked_links) # returns dict\n",
    "MADs_by_rank     = plb.calc_MADs_by_rank (Link_targets, ranked_links) # returns dict\n",
    "\n",
    "## calculate z-scores\n",
    "target_zscores = { }\n",
    "robust_zscores_from_t  = [ ] # for inspection only\n",
    "normal_zscores_from_t  = [ ] # for inspection only\n",
    "for i, link_target in enumerate(Link_targets):\n",
    "    rank     = plb.get_rank_of_list (link_target, gap_mark)\n",
    "    value    = Link_targets[link_target]\n",
    "    ## robust z-scores\n",
    "    robust_zscore  = plb.calc_zscore (value,\n",
    "                                      averages_by_rank[rank], stdevs_by_rank[rank], medians_by_rank[rank], MADs_by_rank[rank], robust = True)\n",
    "    robust_zscores_from_t.append(robust_zscore)\n",
    "    ## tracking z-scores\n",
    "    normal_zscore   = plb.calc_zscore_old (value,\n",
    "                                           averages_by_rank[rank], stdevs_by_rank[rank])\n",
    "    normal_zscores_from_t.append(normal_zscore)\n",
    "    if use_robust_zscore:\n",
    "        target_zscores[link_target] = robust_zscore\n",
    "    else:\n",
    "        target_zscores[link_target] = normal_zscore\n",
    "    if verbose:\n",
    "        print(f\"#target {i}: {link_target} has {value} in-coming(s) [{target_zscores[link_target]: .4f} at rank {rank}]\")\n",
    "\n",
    "## attach source_zscores to M\n",
    "M.target_zscores.update(target_zscores)"
   ]
  },
  {
   "cell_type": "code",
   "execution_count": null,
   "metadata": {},
   "outputs": [],
   "source": [
    "## check z-score distribution\n",
    "import matplotlib.pyplot as plt\n",
    "plt.hist(robust_zscores_from_t, bins = 20)\n",
    "plt.title(f\"Distribution of robust z-scores for in-coming link counts\")\n",
    "plt.show()"
   ]
  },
  {
   "cell_type": "code",
   "execution_count": null,
   "metadata": {},
   "outputs": [],
   "source": [
    "## check z-score distribution\n",
    "import matplotlib.pyplot as plt\n",
    "plt.hist(normal_zscores_from_t, bins = 20)\n",
    "plt.title(f\"Distribution of normal z-scores for in-coming link counts\")\n",
    "plt.show()"
   ]
  },
  {
   "cell_type": "code",
   "execution_count": null,
   "metadata": {},
   "outputs": [],
   "source": [
    "## select z-score base\n",
    "if zscores_from_targets:\n",
    "    Link_bases = M.target_zscores\n",
    "    print(f\"zscores are obtained from link_targets\")\n",
    "else:\n",
    "    Link_bases = M.source_zscores\n",
    "    print(f\"zscores are obtained from link_sources\")"
   ]
  },
  {
   "cell_type": "code",
   "execution_count": null,
   "metadata": {},
   "outputs": [],
   "source": [
    "\n",
    "## check result\n",
    "i = 0\n",
    "for key, value in Link_bases.items():\n",
    "    i += 1\n",
    "    print(f\"node {i:3d} {key} has z-score: {value: .4f}\")"
   ]
  },
  {
   "cell_type": "code",
   "execution_count": null,
   "metadata": {},
   "outputs": [],
   "source": [
    "## draw a pruned diagram from the merged lattice\n",
    "graph_layouts = [   'Multi_partite', # 0\n",
    "                    'Graphviz', # 1\n",
    "                    'ARF', # 2\n",
    "                    'Fruchterman_Reingold', # 3\n",
    "                    'Kamada_Kawai', # 4\n",
    "                    'Spring', # 5\n",
    "                    'Shell', # 6\n",
    "                    'Spectral', # 7\n",
    "                    'Circular', # 8\n",
    "                    'Planar' # 9 # often fails\n",
    "                 ]\n",
    "##\n",
    "layout             = graph_layouts[0]\n",
    "scale_factor       = 3\n",
    "zscore_lowerbound  = -0.0\n",
    "\n",
    "manually_set = True\n",
    "if manually_set:\n",
    "   M.draw_diagrams (generalized = generalized, zscores_from_targets = zscores_from_targets, layout = layout, auto_fig_sizing = False, fig_size = (30, 50), label_sample_n = 10, label_size = 16, node_size = 52, font_name = multibyte_font_name, zscore_lowerbound = zscore_lowerbound, scale_factor = scale_factor, check = False)\n",
    "else:\n",
    "   M.draw_diagrams (generalized = generalized, zscores_from_targets = zscores_from_targets, layout = layout, auto_fig_sizing = True, label_sample_n = 4, zscore_lowerbound = zscore_lowerbound, scale_factor = scale_factor, font_name = multibyte_font_name, check = False)"
   ]
  },
  {
   "cell_type": "code",
   "execution_count": null,
   "metadata": {},
   "outputs": [],
   "source": [
    "## draw a full diagram from the merged lattice\n",
    "if draw_full_version_for_merged:\n",
    "    layout = graph_layouts[0]\n",
    "    zscore_lowerbound  = None\n",
    "    scale_factor       = 3\n",
    "    ##\n",
    "    adjusted = False\n",
    "    if adjusted:\n",
    "        M.draw_diagrams (layout = layout, zscore_lowerbound = zscore_lowerbound,\n",
    "        scale_factor = scale_factor, fig_size = (24, 60), label_size = 12, node_size = 33, font_name = multibyte_font_name, check = False)\n",
    "    else:\n",
    "        M.draw_diagrams (layout = layout, zscore_lowerbound = zscore_lowerbound,\n",
    "        scale_factor = scale_factor, font_name = multibyte_font_name, check = False)"
   ]
  }
 ],
 "metadata": {
  "kernelspec": {
   "display_name": "Python 3",
   "language": "python",
   "name": "python3"
  },
  "language_info": {
   "codemirror_mode": {
    "name": "ipython",
    "version": 3
   },
   "file_extension": ".py",
   "mimetype": "text/x-python",
   "name": "python",
   "nbconvert_exporter": "python",
   "pygments_lexer": "ipython3",
   "version": "3.10.14"
  }
 },
 "nbformat": 4,
 "nbformat_minor": 2
}
